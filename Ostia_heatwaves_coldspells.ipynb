{
 "cells": [
  {
   "cell_type": "markdown",
   "id": "demonstrated-shelter",
   "metadata": {},
   "source": [
    "# Marine Heatwaves and Cold Spells"
   ]
  },
  {
   "cell_type": "markdown",
   "id": "adapted-start",
   "metadata": {},
   "source": [
    "## Import packages and functions"
   ]
  },
  {
   "cell_type": "code",
   "execution_count": 7,
   "id": "textile-merchant",
   "metadata": {},
   "outputs": [],
   "source": [
    "import MHWCS_functions as mhwcs"
   ]
  },
  {
   "cell_type": "code",
   "execution_count": null,
   "id": "devoted-gothic",
   "metadata": {},
   "outputs": [],
   "source": []
  }
 ],
 "metadata": {
  "kernelspec": {
   "display_name": "Python 3",
   "language": "python",
   "name": "python3"
  },
  "language_info": {
   "codemirror_mode": {
    "name": "ipython",
    "version": 3
   },
   "file_extension": ".py",
   "mimetype": "text/x-python",
   "name": "python",
   "nbconvert_exporter": "python",
   "pygments_lexer": "ipython3",
   "version": "3.8.6"
  }
 },
 "nbformat": 4,
 "nbformat_minor": 5
}
